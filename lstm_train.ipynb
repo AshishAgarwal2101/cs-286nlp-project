{
  "nbformat": 4,
  "nbformat_minor": 0,
  "metadata": {
    "colab": {
      "provenance": []
    },
    "kernelspec": {
      "name": "python3",
      "display_name": "Python 3"
    },
    "language_info": {
      "name": "python"
    },
    "accelerator": "GPU",
    "gpuClass": "standard"
  },
  "cells": [
    {
      "cell_type": "code",
      "source": [
        "!pip install -q transformers"
      ],
      "metadata": {
        "id": "TmgkYmlCJlnA"
      },
      "execution_count": null,
      "outputs": []
    },
    {
      "cell_type": "code",
      "execution_count": null,
      "metadata": {
        "id": "huRinEouHNTp"
      },
      "outputs": [],
      "source": [
        "def initialize():\n",
        "  import re \n",
        "  import warnings\n",
        "  import numpy as np\n",
        "  import pandas as pd\n",
        "  import seaborn as sns\n",
        "  import tensorflow as tf\n",
        "  from wordcloud import WordCloud\n",
        "  from matplotlib import pyplot as plt\n",
        "  from transformers import TFAutoModel, AutoTokenizer\n",
        "  from sklearn.feature_extraction.text import CountVectorizer\n",
        "  from tensorflow.keras.preprocessing.text import Tokenizer\n",
        "  from tensorflow.keras.preprocessing.sequence import pad_sequences\n",
        "  train_df = pd.read_csv('train.csv')\n",
        "  test_df = pd.read_csv('test.csv')\n",
        "\n",
        "  input_essay = \"It is very important for every child to get an education, as education can change their life. It will prepare the child for the harmonious transformation from a student into a responsible citizen. Thus, in order to make a better life for the children, education is mandatory for everyone. Therefore, the government should make education free for everyone. There are also some negative results if the education in colleges and universities is made free. There are some students, after completing their Higher Secondary, who opt for a professional course or vocational course. These students are aware of their aptitudes and have grown up. Some of them are interested in business, others opt for general courses. If education is made free in colleges and universities, then more students will be interested in taking up general courses. This can further result in unemployment, as there will be fewer job opportunities for the huge number of qualified students. The government can tackle this strong competition by adopting different methods of admitting the student. One of the methods is Entrance- Exams, where the students will be allowed to enter on the basis of their merit. The shortage in the job opportunity will lead the educated and highly qualified to settle down in low-level jobs, where they do not get their deserved honour for their capability and hard work. Thus the people will get demoralised and would get diverted from the idea of getting higher education. This would further put the image of free university education down in the eyes of new aspirants.\"\n",
        "  i = 0\n",
        "  test_df.loc[len(test_df.index)] = [\"000BAD50D026\"+str(i), input_essay ]\n",
        "  i+=1\n",
        "  train_df['full_text'] = train_df[\"full_text\"].replace(re.compile(r'[\\n\\r\\t]'), '', regex=True)\n",
        "  test_df['full_text'] = test_df[\"full_text\"].replace(re.compile(r'[\\n\\r\\t]'), '', regex=True)\n",
        "\n",
        "  train_df['num_words'] = train_df['full_text'].apply(lambda x: len(x.split()))\n",
        "  avg_words = round(train_df['num_words'].mean())\n",
        "  max_words = round(train_df['num_words'].max())\n",
        "  print('Average length: {}'.format(avg_words))\n",
        "  print('Max length: {}'.format(max_words))\n",
        "\n",
        "  warnings.filterwarnings(\"ignore\", category=FutureWarning)\n",
        "  sns.set_theme()\n",
        "  %matplotlib inline "
      ]
    },
    {
      "cell_type": "code",
      "source": [
        "train_df = pd.read_csv('train.csv')\n",
        "test_df = pd.read_csv('test.csv')"
      ],
      "metadata": {
        "id": "T_Jg2vQdHg77"
      },
      "execution_count": null,
      "outputs": []
    },
    {
      "cell_type": "code",
      "source": [
        "test_data = train_df[3850:3911]"
      ],
      "metadata": {
        "id": "5ypomyw8Mhc2"
      },
      "execution_count": null,
      "outputs": []
    },
    {
      "cell_type": "code",
      "source": [
        "test_data"
      ],
      "metadata": {
        "colab": {
          "base_uri": "https://localhost:8080/",
          "height": 728
        },
        "id": "u9YJYGgNMvjN",
        "outputId": "c0e076b2-52a5-47df-8322-cdde27368e90"
      },
      "execution_count": null,
      "outputs": [
        {
          "output_type": "execute_result",
          "data": {
            "text/plain": [
              "           text_id                                          full_text  \\\n",
              "3850  FDB362959DDF  Do you think that student is much better gradu...   \n",
              "3851  FDC94E0FE9C8  Have you ever did something because is on tren...   \n",
              "3852  FDCBCA9B0636  Dear School Principal,\\r\\n\\r\\nI believe that s...   \n",
              "3853  FDE0B653AD74  When you play activities or an instrument, don...   \n",
              "3854  FDF7C4F4BC4D  The first place i would want to go is the Baha...   \n",
              "...            ...                                                ...   \n",
              "3906  FFD29828A873  I believe using cellphones in class for educat...   \n",
              "3907  FFD9A83B0849  Working alone, students do not have to argue w...   \n",
              "3908  FFDC4011AC9C  \"A problem is a chance for you to do your best...   \n",
              "3909  FFE16D704B16  Many people disagree with Albert Schweitzer's ...   \n",
              "3910  FFED00D6E0BD  Do you think that failure is the main thing fo...   \n",
              "\n",
              "      cohesion  syntax  vocabulary  phraseology  grammar  conventions  \n",
              "3850       3.0     3.0         3.0          3.0      2.5          2.5  \n",
              "3851       3.5     3.0         4.0          3.5      3.0          3.5  \n",
              "3852       2.5     3.5         3.5          3.0      4.0          3.5  \n",
              "3853       4.0     3.5         3.5          4.0      4.0          3.5  \n",
              "3854       2.5     3.0         3.0          3.5      3.0          3.0  \n",
              "...        ...     ...         ...          ...      ...          ...  \n",
              "3906       2.5     3.0         3.0          3.5      2.5          2.5  \n",
              "3907       4.0     4.0         4.0          4.0      3.5          3.0  \n",
              "3908       2.5     3.0         3.0          3.0      3.5          3.0  \n",
              "3909       4.0     4.5         4.5          4.0      4.5          4.5  \n",
              "3910       3.5     2.5         3.5          3.0      3.0          3.5  \n",
              "\n",
              "[61 rows x 8 columns]"
            ],
            "text/html": [
              "\n",
              "  <div id=\"df-3a9c7716-da42-4f79-90fe-8be959edd85e\">\n",
              "    <div class=\"colab-df-container\">\n",
              "      <div>\n",
              "<style scoped>\n",
              "    .dataframe tbody tr th:only-of-type {\n",
              "        vertical-align: middle;\n",
              "    }\n",
              "\n",
              "    .dataframe tbody tr th {\n",
              "        vertical-align: top;\n",
              "    }\n",
              "\n",
              "    .dataframe thead th {\n",
              "        text-align: right;\n",
              "    }\n",
              "</style>\n",
              "<table border=\"1\" class=\"dataframe\">\n",
              "  <thead>\n",
              "    <tr style=\"text-align: right;\">\n",
              "      <th></th>\n",
              "      <th>text_id</th>\n",
              "      <th>full_text</th>\n",
              "      <th>cohesion</th>\n",
              "      <th>syntax</th>\n",
              "      <th>vocabulary</th>\n",
              "      <th>phraseology</th>\n",
              "      <th>grammar</th>\n",
              "      <th>conventions</th>\n",
              "    </tr>\n",
              "  </thead>\n",
              "  <tbody>\n",
              "    <tr>\n",
              "      <th>3850</th>\n",
              "      <td>FDB362959DDF</td>\n",
              "      <td>Do you think that student is much better gradu...</td>\n",
              "      <td>3.0</td>\n",
              "      <td>3.0</td>\n",
              "      <td>3.0</td>\n",
              "      <td>3.0</td>\n",
              "      <td>2.5</td>\n",
              "      <td>2.5</td>\n",
              "    </tr>\n",
              "    <tr>\n",
              "      <th>3851</th>\n",
              "      <td>FDC94E0FE9C8</td>\n",
              "      <td>Have you ever did something because is on tren...</td>\n",
              "      <td>3.5</td>\n",
              "      <td>3.0</td>\n",
              "      <td>4.0</td>\n",
              "      <td>3.5</td>\n",
              "      <td>3.0</td>\n",
              "      <td>3.5</td>\n",
              "    </tr>\n",
              "    <tr>\n",
              "      <th>3852</th>\n",
              "      <td>FDCBCA9B0636</td>\n",
              "      <td>Dear School Principal,\\r\\n\\r\\nI believe that s...</td>\n",
              "      <td>2.5</td>\n",
              "      <td>3.5</td>\n",
              "      <td>3.5</td>\n",
              "      <td>3.0</td>\n",
              "      <td>4.0</td>\n",
              "      <td>3.5</td>\n",
              "    </tr>\n",
              "    <tr>\n",
              "      <th>3853</th>\n",
              "      <td>FDE0B653AD74</td>\n",
              "      <td>When you play activities or an instrument, don...</td>\n",
              "      <td>4.0</td>\n",
              "      <td>3.5</td>\n",
              "      <td>3.5</td>\n",
              "      <td>4.0</td>\n",
              "      <td>4.0</td>\n",
              "      <td>3.5</td>\n",
              "    </tr>\n",
              "    <tr>\n",
              "      <th>3854</th>\n",
              "      <td>FDF7C4F4BC4D</td>\n",
              "      <td>The first place i would want to go is the Baha...</td>\n",
              "      <td>2.5</td>\n",
              "      <td>3.0</td>\n",
              "      <td>3.0</td>\n",
              "      <td>3.5</td>\n",
              "      <td>3.0</td>\n",
              "      <td>3.0</td>\n",
              "    </tr>\n",
              "    <tr>\n",
              "      <th>...</th>\n",
              "      <td>...</td>\n",
              "      <td>...</td>\n",
              "      <td>...</td>\n",
              "      <td>...</td>\n",
              "      <td>...</td>\n",
              "      <td>...</td>\n",
              "      <td>...</td>\n",
              "      <td>...</td>\n",
              "    </tr>\n",
              "    <tr>\n",
              "      <th>3906</th>\n",
              "      <td>FFD29828A873</td>\n",
              "      <td>I believe using cellphones in class for educat...</td>\n",
              "      <td>2.5</td>\n",
              "      <td>3.0</td>\n",
              "      <td>3.0</td>\n",
              "      <td>3.5</td>\n",
              "      <td>2.5</td>\n",
              "      <td>2.5</td>\n",
              "    </tr>\n",
              "    <tr>\n",
              "      <th>3907</th>\n",
              "      <td>FFD9A83B0849</td>\n",
              "      <td>Working alone, students do not have to argue w...</td>\n",
              "      <td>4.0</td>\n",
              "      <td>4.0</td>\n",
              "      <td>4.0</td>\n",
              "      <td>4.0</td>\n",
              "      <td>3.5</td>\n",
              "      <td>3.0</td>\n",
              "    </tr>\n",
              "    <tr>\n",
              "      <th>3908</th>\n",
              "      <td>FFDC4011AC9C</td>\n",
              "      <td>\"A problem is a chance for you to do your best...</td>\n",
              "      <td>2.5</td>\n",
              "      <td>3.0</td>\n",
              "      <td>3.0</td>\n",
              "      <td>3.0</td>\n",
              "      <td>3.5</td>\n",
              "      <td>3.0</td>\n",
              "    </tr>\n",
              "    <tr>\n",
              "      <th>3909</th>\n",
              "      <td>FFE16D704B16</td>\n",
              "      <td>Many people disagree with Albert Schweitzer's ...</td>\n",
              "      <td>4.0</td>\n",
              "      <td>4.5</td>\n",
              "      <td>4.5</td>\n",
              "      <td>4.0</td>\n",
              "      <td>4.5</td>\n",
              "      <td>4.5</td>\n",
              "    </tr>\n",
              "    <tr>\n",
              "      <th>3910</th>\n",
              "      <td>FFED00D6E0BD</td>\n",
              "      <td>Do you think that failure is the main thing fo...</td>\n",
              "      <td>3.5</td>\n",
              "      <td>2.5</td>\n",
              "      <td>3.5</td>\n",
              "      <td>3.0</td>\n",
              "      <td>3.0</td>\n",
              "      <td>3.5</td>\n",
              "    </tr>\n",
              "  </tbody>\n",
              "</table>\n",
              "<p>61 rows × 8 columns</p>\n",
              "</div>\n",
              "      <button class=\"colab-df-convert\" onclick=\"convertToInteractive('df-3a9c7716-da42-4f79-90fe-8be959edd85e')\"\n",
              "              title=\"Convert this dataframe to an interactive table.\"\n",
              "              style=\"display:none;\">\n",
              "        \n",
              "  <svg xmlns=\"http://www.w3.org/2000/svg\" height=\"24px\"viewBox=\"0 0 24 24\"\n",
              "       width=\"24px\">\n",
              "    <path d=\"M0 0h24v24H0V0z\" fill=\"none\"/>\n",
              "    <path d=\"M18.56 5.44l.94 2.06.94-2.06 2.06-.94-2.06-.94-.94-2.06-.94 2.06-2.06.94zm-11 1L8.5 8.5l.94-2.06 2.06-.94-2.06-.94L8.5 2.5l-.94 2.06-2.06.94zm10 10l.94 2.06.94-2.06 2.06-.94-2.06-.94-.94-2.06-.94 2.06-2.06.94z\"/><path d=\"M17.41 7.96l-1.37-1.37c-.4-.4-.92-.59-1.43-.59-.52 0-1.04.2-1.43.59L10.3 9.45l-7.72 7.72c-.78.78-.78 2.05 0 2.83L4 21.41c.39.39.9.59 1.41.59.51 0 1.02-.2 1.41-.59l7.78-7.78 2.81-2.81c.8-.78.8-2.07 0-2.86zM5.41 20L4 18.59l7.72-7.72 1.47 1.35L5.41 20z\"/>\n",
              "  </svg>\n",
              "      </button>\n",
              "      \n",
              "  <style>\n",
              "    .colab-df-container {\n",
              "      display:flex;\n",
              "      flex-wrap:wrap;\n",
              "      gap: 12px;\n",
              "    }\n",
              "\n",
              "    .colab-df-convert {\n",
              "      background-color: #E8F0FE;\n",
              "      border: none;\n",
              "      border-radius: 50%;\n",
              "      cursor: pointer;\n",
              "      display: none;\n",
              "      fill: #1967D2;\n",
              "      height: 32px;\n",
              "      padding: 0 0 0 0;\n",
              "      width: 32px;\n",
              "    }\n",
              "\n",
              "    .colab-df-convert:hover {\n",
              "      background-color: #E2EBFA;\n",
              "      box-shadow: 0px 1px 2px rgba(60, 64, 67, 0.3), 0px 1px 3px 1px rgba(60, 64, 67, 0.15);\n",
              "      fill: #174EA6;\n",
              "    }\n",
              "\n",
              "    [theme=dark] .colab-df-convert {\n",
              "      background-color: #3B4455;\n",
              "      fill: #D2E3FC;\n",
              "    }\n",
              "\n",
              "    [theme=dark] .colab-df-convert:hover {\n",
              "      background-color: #434B5C;\n",
              "      box-shadow: 0px 1px 3px 1px rgba(0, 0, 0, 0.15);\n",
              "      filter: drop-shadow(0px 1px 2px rgba(0, 0, 0, 0.3));\n",
              "      fill: #FFFFFF;\n",
              "    }\n",
              "  </style>\n",
              "\n",
              "      <script>\n",
              "        const buttonEl =\n",
              "          document.querySelector('#df-3a9c7716-da42-4f79-90fe-8be959edd85e button.colab-df-convert');\n",
              "        buttonEl.style.display =\n",
              "          google.colab.kernel.accessAllowed ? 'block' : 'none';\n",
              "\n",
              "        async function convertToInteractive(key) {\n",
              "          const element = document.querySelector('#df-3a9c7716-da42-4f79-90fe-8be959edd85e');\n",
              "          const dataTable =\n",
              "            await google.colab.kernel.invokeFunction('convertToInteractive',\n",
              "                                                     [key], {});\n",
              "          if (!dataTable) return;\n",
              "\n",
              "          const docLinkHtml = 'Like what you see? Visit the ' +\n",
              "            '<a target=\"_blank\" href=https://colab.research.google.com/notebooks/data_table.ipynb>data table notebook</a>'\n",
              "            + ' to learn more about interactive tables.';\n",
              "          element.innerHTML = '';\n",
              "          dataTable['output_type'] = 'display_data';\n",
              "          await google.colab.output.renderOutput(dataTable, element);\n",
              "          const docLink = document.createElement('div');\n",
              "          docLink.innerHTML = docLinkHtml;\n",
              "          element.appendChild(docLink);\n",
              "        }\n",
              "      </script>\n",
              "    </div>\n",
              "  </div>\n",
              "  "
            ]
          },
          "metadata": {},
          "execution_count": 6
        }
      ]
    },
    {
      "cell_type": "code",
      "source": [
        "train_df = train_df[0:2000]"
      ],
      "metadata": {
        "id": "xMPmniJILRNG"
      },
      "execution_count": null,
      "outputs": []
    },
    {
      "cell_type": "code",
      "source": [
        "train_df.shape"
      ],
      "metadata": {
        "colab": {
          "base_uri": "https://localhost:8080/"
        },
        "id": "TjXPvJE7LUus",
        "outputId": "9d190890-cf1e-44e0-f638-7e17f7341171"
      },
      "execution_count": null,
      "outputs": [
        {
          "output_type": "execute_result",
          "data": {
            "text/plain": [
              "(2000, 8)"
            ]
          },
          "metadata": {},
          "execution_count": 8
        }
      ]
    },
    {
      "cell_type": "code",
      "source": [
        "train_df.describe().style.background_gradient(cmap='Blues').set_properties(**{'font-family':'Segoe UI'})\n",
        "train_df['full_text'][5]"
      ],
      "metadata": {
        "colab": {
          "base_uri": "https://localhost:8080/",
          "height": 200
        },
        "id": "S4dIm4u0HoLM",
        "outputId": "727796f4-c543-440a-ce53-8994054c17bc"
      },
      "execution_count": null,
      "outputs": [
        {
          "output_type": "execute_result",
          "data": {
            "text/plain": [
              "\"Dear Principal,\\r\\n\\r\\nOur school should have a community center. The reasons why, are so students can learn what our community needs, how to make our community better place, and why is community important for students to know. Its a great to have a community center to know how we can make things better.\\r\\n\\r\\nStudents think community center takes their time away. but they have to learn what our community needs. students will participate in a group of students making a list what our community needs, therefore students will learn what our community needs! students will present their list of things our community needs! due to that students will be giving extra credit for the ones who have low grades!\\r\\n\\r\\nSome students don't participate because their friends say its waste of time. it would not be waste of time when you get to know how our community can be a better place for us. students should know that the program is about our own lives, because if our community is bad well our lives are going to be bad. due to that students will want to participate and will want to make our community a better place for us.\\r\\n\\r\\nsome student might say why is the community important anyways, were fine nothing is wrong. but when get to know what our community is, they would want to know about and would want to participate and know why is our community important. students will receive a good grade if they participate in this community because is like an extra credit. due to that their friends would want to enjoy the program because their friend told them about it.\\r\\n\\r\\nso principal the community center will be a great place for students to learn lots of things. so i guess this will be a good idea for our school. students will learn what our community needs, how to make our community a better place, and why is our community important!\\r\\n\\r\\nSincerely, STUDENT_NAME\""
            ],
            "application/vnd.google.colaboratory.intrinsic+json": {
              "type": "string"
            }
          },
          "metadata": {},
          "execution_count": 9
        }
      ]
    },
    {
      "cell_type": "code",
      "source": [
        "train_df['full_text'] = train_df[\"full_text\"].replace(re.compile(r'[\\n\\r\\t]'), '', regex=True)\n",
        "test_df['full_text'] = test_df[\"full_text\"].replace(re.compile(r'[\\n\\r\\t]'), '', regex=True)"
      ],
      "metadata": {
        "id": "hnsM4YqrHsaZ"
      },
      "execution_count": null,
      "outputs": []
    },
    {
      "cell_type": "code",
      "source": [
        "train_df['num_words'] = train_df['full_text'].apply(lambda x: len(x.split()))\n",
        "avg_words = round(train_df['num_words'].mean())\n",
        "max_words = round(train_df['num_words'].max())\n",
        "print('Average length: {}'.format(avg_words))\n",
        "print('Max length: {}'.format(max_words))"
      ],
      "metadata": {
        "colab": {
          "base_uri": "https://localhost:8080/"
        },
        "id": "O5eedrrKHvHR",
        "outputId": "52c884f6-e186-4f92-f0fa-c4fc0a76724a"
      },
      "execution_count": null,
      "outputs": [
        {
          "output_type": "stream",
          "name": "stdout",
          "text": [
            "Average length: 430\n",
            "Max length: 1260\n"
          ]
        }
      ]
    },
    {
      "cell_type": "code",
      "source": [
        "cv = CountVectorizer(stop_words = 'english')\n",
        "words = cv.fit_transform(train_df['full_text'])\n",
        "sum_words = words.sum(axis=0)\n",
        "\n",
        "words_freq = [(word, sum_words[0, idx]) for word, idx in cv.vocabulary_.items()]\n",
        "words_freq = sorted(words_freq, key = lambda x: x[1], reverse = True)\n",
        "\n",
        "wordcloud = WordCloud(width = 2000, height = 2000).generate_from_frequencies(dict(words_freq))\n"
      ],
      "metadata": {
        "id": "cSS3naNkH3B7"
      },
      "execution_count": null,
      "outputs": []
    },
    {
      "cell_type": "code",
      "source": [
        "def tokenize():\n",
        "  tokenizer = Tokenizer(oov_token=\"<OOV>\")\n",
        "  tokenizer.fit_on_texts(train_df['full_text'])\n",
        "  word_index = tokenizer.word_index\n",
        "\n",
        "  train_seq = tokenizer.texts_to_sequences(train_df['full_text'])\n",
        "  pad_train = pad_sequences(train_seq, maxlen=max_words, truncating='post')\n",
        "\n",
        "  test_seq = tokenizer.texts_to_sequences(test_df['full_text'])\n",
        "  pad_test = pad_sequences(test_seq, maxlen=max_words, truncating='post')"
      ],
      "metadata": {
        "id": "NEkIQWYIH8cl"
      },
      "execution_count": null,
      "outputs": []
    },
    {
      "cell_type": "code",
      "source": [
        "tokenizew"
      ],
      "metadata": {
        "id": "6B0KaUkst-tc"
      },
      "execution_count": null,
      "outputs": []
    },
    {
      "cell_type": "code",
      "source": [
        "word_idx_count = len(word_index)\n",
        "print(word_idx_count)"
      ],
      "metadata": {
        "colab": {
          "base_uri": "https://localhost:8080/"
        },
        "id": "_jIt-Jx8H-4M",
        "outputId": "c4bbe49f-b563-4598-8cdd-c02997575c8c"
      },
      "execution_count": null,
      "outputs": [
        {
          "output_type": "stream",
          "name": "stdout",
          "text": [
            "15798\n"
          ]
        }
      ]
    },
    {
      "cell_type": "code",
      "source": [
        "X = pad_train\n",
        "y = [train_df['cohesion'].values, train_df['syntax'].values, train_df['vocabulary'].values,\n",
        "      train_df['phraseology'].values, train_df['grammar'].values, train_df['conventions'].values]"
      ],
      "metadata": {
        "id": "FHHdwklhIBO_"
      },
      "execution_count": null,
      "outputs": []
    },
    {
      "cell_type": "code",
      "source": [
        "\n",
        "def get_lstm_model():\n",
        "\n",
        "    inputs = tf.keras.layers.Input(shape=(max_words))\n",
        "    embeddings = tf.keras.layers.Embedding(word_idx_count + 1, 64, input_length=max_words)(inputs)\n",
        "    x = tf.keras.layers.Bidirectional(tf.keras.layers.LSTM(64, return_sequences=True))(embeddings)\n",
        "    x = tf.keras.layers.Bidirectional(tf.keras.layers.LSTM(32, return_sequences=True))(x)\n",
        "    x = tf.keras.layers.Bidirectional(tf.keras.layers.LSTM(32))(x)\n",
        "    \n",
        "    output1 = tf.keras.layers.Dense(64, activation='relu', kernel_initializer=tf.keras.initializers.RandomNormal(mean=0.0, stddev=0.05), \n",
        "                                    bias_initializer='zeros',\n",
        "                                    kernel_regularizer=tf.keras.regularizers.L1L2(l1=1e-5, l2=1e-4), \n",
        "                                    bias_regularizer=tf.keras.regularizers.L2(1e-4), \n",
        "                                    activity_regularizer=tf.keras.regularizers.L2(1e-5))(x)\n",
        "    output1 = tf.keras.layers.Dense(32, activation='relu', kernel_initializer=tf.keras.initializers.RandomNormal(mean=0.0, stddev=0.05), \n",
        "                                    bias_initializer='zeros',\n",
        "                                    kernel_regularizer=tf.keras.regularizers.L1L2(l1=1e-5, l2=1e-4), \n",
        "                                    bias_regularizer=tf.keras.regularizers.L2(1e-4), \n",
        "                                    activity_regularizer=tf.keras.regularizers.L2(1e-5))(output1)\n",
        "    output1 = tf.keras.layers.Dense(1, activation='relu', name='cohesion')(output1)\n",
        "    \n",
        "    \n",
        "    output2 = tf.keras.layers.Dense(64, activation='relu', kernel_initializer=tf.keras.initializers.RandomNormal(mean=0.0, stddev=0.05), \n",
        "                                    bias_initializer='zeros',\n",
        "                                    kernel_regularizer=tf.keras.regularizers.L1L2(l1=1e-5, l2=1e-4), \n",
        "                                    bias_regularizer=tf.keras.regularizers.L2(1e-4), \n",
        "                                    activity_regularizer=tf.keras.regularizers.L2(1e-5))(x)\n",
        "    output2 = tf.keras.layers.Dense(32, activation='relu', kernel_initializer=tf.keras.initializers.RandomNormal(mean=0.0, stddev=0.05), \n",
        "                                    bias_initializer='zeros',\n",
        "                                    kernel_regularizer=tf.keras.regularizers.L1L2(l1=1e-5, l2=1e-4), \n",
        "                                    bias_regularizer=tf.keras.regularizers.L2(1e-4), \n",
        "                                    activity_regularizer=tf.keras.regularizers.L2(1e-5))(output2)\n",
        "    output2 = tf.keras.layers.Dense(1, activation='relu', name='syntax')(output2)\n",
        "    \n",
        "    output3 = tf.keras.layers.Dense(64, activation='relu', kernel_initializer=tf.keras.initializers.RandomNormal(mean=0.0, stddev=0.05), \n",
        "                                    bias_initializer='zeros',\n",
        "                                    kernel_regularizer=tf.keras.regularizers.L1L2(l1=1e-5, l2=1e-4), \n",
        "                                    bias_regularizer=tf.keras.regularizers.L2(1e-4), \n",
        "                                    activity_regularizer=tf.keras.regularizers.L2(1e-5))(x)\n",
        "    output3 = tf.keras.layers.Dense(32, activation='relu', kernel_initializer=tf.keras.initializers.RandomNormal(mean=0.0, stddev=0.05), \n",
        "                                    bias_initializer='zeros',\n",
        "                                    kernel_regularizer=tf.keras.regularizers.L1L2(l1=1e-5, l2=1e-4), \n",
        "                                    bias_regularizer=tf.keras.regularizers.L2(1e-4), \n",
        "                                    activity_regularizer=tf.keras.regularizers.L2(1e-5))(output3)\n",
        "    output3 = tf.keras.layers.Dense(1, activation='relu', name='vocabulary')(output3)\n",
        "    \n",
        "    output4 = tf.keras.layers.Dense(64, activation='relu', kernel_initializer=tf.keras.initializers.RandomNormal(mean=0.0, stddev=0.05), \n",
        "                                    bias_initializer='zeros',\n",
        "                                    kernel_regularizer=tf.keras.regularizers.L1L2(l1=1e-5, l2=1e-4), \n",
        "                                    bias_regularizer=tf.keras.regularizers.L2(1e-4), \n",
        "                                    activity_regularizer=tf.keras.regularizers.L2(1e-5))(x)\n",
        "    output4 = tf.keras.layers.Dense(32, activation='relu', kernel_initializer=tf.keras.initializers.RandomNormal(mean=0.0, stddev=0.05), \n",
        "                                    bias_initializer='zeros',\n",
        "                                    kernel_regularizer=tf.keras.regularizers.L1L2(l1=1e-5, l2=1e-4), \n",
        "                                    bias_regularizer=tf.keras.regularizers.L2(1e-4), \n",
        "                                    activity_regularizer=tf.keras.regularizers.L2(1e-5))(output4)\n",
        "    output4 = tf.keras.layers.Dense(1, activation='relu', name='phraseology')(output4)\n",
        "    \n",
        "    output5 = tf.keras.layers.Dense(64, activation='relu', kernel_initializer=tf.keras.initializers.RandomNormal(mean=0.0, stddev=0.05), \n",
        "                                    bias_initializer='zeros',\n",
        "                                    kernel_regularizer=tf.keras.regularizers.L1L2(l1=1e-5, l2=1e-4), \n",
        "                                    bias_regularizer=tf.keras.regularizers.L2(1e-4), \n",
        "                                    activity_regularizer=tf.keras.regularizers.L2(1e-5))(x)\n",
        "    output5 = tf.keras.layers.Dense(32, activation='relu', kernel_initializer=tf.keras.initializers.RandomNormal(mean=0.0, stddev=0.05), \n",
        "                                    bias_initializer='zeros',\n",
        "                                    kernel_regularizer=tf.keras.regularizers.L1L2(l1=1e-5, l2=1e-4), \n",
        "                                    bias_regularizer=tf.keras.regularizers.L2(1e-4), \n",
        "                                    activity_regularizer=tf.keras.regularizers.L2(1e-5))(output5)\n",
        "    output5 = tf.keras.layers.Dense(1, activation='relu', name='grammar')(output5)  \n",
        "    \n",
        "    output6 = tf.keras.layers.Dense(64, activation='relu', kernel_initializer=tf.keras.initializers.RandomNormal(mean=0.0, stddev=0.05), \n",
        "                                    bias_initializer='zeros',\n",
        "                                    kernel_regularizer=tf.keras.regularizers.L1L2(l1=1e-5, l2=1e-4), \n",
        "                                    bias_regularizer=tf.keras.regularizers.L2(1e-4), \n",
        "                                    activity_regularizer=tf.keras.regularizers.L2(1e-5))(x)\n",
        "    output6 = tf.keras.layers.Dense(32, activation='relu', kernel_initializer=tf.keras.initializers.RandomNormal(mean=0.0, stddev=0.05), \n",
        "                                    bias_initializer='zeros',\n",
        "                                    kernel_regularizer=tf.keras.regularizers.L1L2(l1=1e-5, l2=1e-4), \n",
        "                                    bias_regularizer=tf.keras.regularizers.L2(1e-4), \n",
        "                                    activity_regularizer=tf.keras.regularizers.L2(1e-5))(output6)\n",
        "    output6 = tf.keras.layers.Dense(1, activation='relu', name='conventions')(output6)\n",
        "    \n",
        "    model = tf.keras.models.Model(inputs=inputs, outputs=[output1, output2, output3, output4, output5, output6])\n",
        "    \n",
        "    model.compile(\n",
        "        optimizer=tf.keras.optimizers.Adam(),\n",
        "        loss = tf.keras.losses.mean_squared_error\n",
        "    )\n",
        "    \n",
        "    return model"
      ],
      "metadata": {
        "id": "vlZfsXDGIISD"
      },
      "execution_count": null,
      "outputs": []
    },
    {
      "cell_type": "code",
      "source": [
        "model = get_lstm_model()"
      ],
      "metadata": {
        "id": "EWphW3XEIK6T"
      },
      "execution_count": null,
      "outputs": []
    },
    {
      "cell_type": "code",
      "source": [
        "history = model.fit(X, y, epochs=30, validation_split=0.2, shuffle=True, verbose=1)"
      ],
      "metadata": {
        "id": "g9NCK6Z-ISph"
      },
      "execution_count": null,
      "outputs": []
    },
    {
      "cell_type": "code",
      "source": [
        "!mkdir -p saved_model2\n",
        "model.save('saved_model2/my_model')"
      ],
      "metadata": {
        "colab": {
          "base_uri": "https://localhost:8080/"
        },
        "id": "9jB28P1mIbrj",
        "outputId": "61ff999c-4d84-41d5-e14b-a7b49458fb64"
      },
      "execution_count": null,
      "outputs": [
        {
          "output_type": "stream",
          "name": "stderr",
          "text": [
            "WARNING:absl:Found untraced functions such as lstm_cell_1_layer_call_fn, lstm_cell_1_layer_call_and_return_conditional_losses, lstm_cell_2_layer_call_fn, lstm_cell_2_layer_call_and_return_conditional_losses, lstm_cell_4_layer_call_fn while saving (showing 5 of 12). These functions will not be directly callable after loading.\n"
          ]
        }
      ]
    },
    {
      "cell_type": "code",
      "source": [
        "from google.colab import drive\n",
        "drive.mount('/content/drive')"
      ],
      "metadata": {
        "id": "lAyuh953wjKf"
      },
      "execution_count": null,
      "outputs": []
    },
    {
      "cell_type": "code",
      "source": [
        "from google.colab import files\n",
        "files.download('/content/saved_model2/my_model/variables/variables.data-00000-of-00001')"
      ],
      "metadata": {
        "id": "EKKaYtc6yTnd"
      },
      "execution_count": null,
      "outputs": []
    },
    {
      "cell_type": "code",
      "source": [
        "!zip -r /content/saved_model2.zip /content/saved_model2/"
      ],
      "metadata": {
        "id": "1Hjfn0zk8FTN"
      },
      "execution_count": null,
      "outputs": []
    },
    {
      "cell_type": "code",
      "source": [
        "files.download('/content/saved_model2.zip')"
      ],
      "metadata": {
        "id": "Y98NiCRL9VIF"
      },
      "execution_count": null,
      "outputs": []
    },
    {
      "cell_type": "code",
      "source": [
        "initialize()\n",
        "tokenize()"
      ],
      "metadata": {
        "colab": {
          "base_uri": "https://localhost:8080/"
        },
        "id": "zyVwttm8OV8t",
        "outputId": "a9dbcd90-3703-44e0-edb2-134ba6aad7af"
      },
      "execution_count": null,
      "outputs": [
        {
          "output_type": "stream",
          "name": "stdout",
          "text": [
            "Average length: 426\n",
            "Max length: 1250\n"
          ]
        }
      ]
    },
    {
      "cell_type": "code",
      "source": [
        "\n",
        "def load_model():\n",
        "  new_model = tf.keras.models.load_model('drive/MyDrive/LSTM_Model/my_model')\n",
        "  return new_model\n",
        "#Check its architecture\n",
        "#new_model.summary()"
      ],
      "metadata": {
        "id": "2e5taNVAJGst"
      },
      "execution_count": null,
      "outputs": []
    },
    {
      "cell_type": "code",
      "source": [
        "saved_model = load_model()"
      ],
      "metadata": {
        "id": "mzM98wUzC3l2"
      },
      "execution_count": null,
      "outputs": []
    },
    {
      "cell_type": "code",
      "source": [
        "saved_model.summary()"
      ],
      "metadata": {
        "colab": {
          "base_uri": "https://localhost:8080/"
        },
        "id": "1vgUmLYBEnJH",
        "outputId": "b68d46cd-2ac6-4061-806b-30f716cacf15"
      },
      "execution_count": null,
      "outputs": [
        {
          "output_type": "stream",
          "name": "stdout",
          "text": [
            "Model: \"model\"\n",
            "__________________________________________________________________________________________________\n",
            " Layer (type)                   Output Shape         Param #     Connected to                     \n",
            "==================================================================================================\n",
            " input_1 (InputLayer)           [(None, 1250)]       0           []                               \n",
            "                                                                                                  \n",
            " embedding (Embedding)          (None, 1250, 64)     1011136     ['input_1[0][0]']                \n",
            "                                                                                                  \n",
            " bidirectional (Bidirectional)  (None, 1250, 128)    66048       ['embedding[0][0]']              \n",
            "                                                                                                  \n",
            " bidirectional_1 (Bidirectional  (None, 1250, 64)    41216       ['bidirectional[0][0]']          \n",
            " )                                                                                                \n",
            "                                                                                                  \n",
            " bidirectional_2 (Bidirectional  (None, 64)          24832       ['bidirectional_1[0][0]']        \n",
            " )                                                                                                \n",
            "                                                                                                  \n",
            " dense (Dense)                  (None, 64)           4160        ['bidirectional_2[0][0]']        \n",
            "                                                                                                  \n",
            " dense_2 (Dense)                (None, 64)           4160        ['bidirectional_2[0][0]']        \n",
            "                                                                                                  \n",
            " dense_4 (Dense)                (None, 64)           4160        ['bidirectional_2[0][0]']        \n",
            "                                                                                                  \n",
            " dense_6 (Dense)                (None, 64)           4160        ['bidirectional_2[0][0]']        \n",
            "                                                                                                  \n",
            " dense_8 (Dense)                (None, 64)           4160        ['bidirectional_2[0][0]']        \n",
            "                                                                                                  \n",
            " dense_10 (Dense)               (None, 64)           4160        ['bidirectional_2[0][0]']        \n",
            "                                                                                                  \n",
            " dense_1 (Dense)                (None, 32)           2080        ['dense[0][0]']                  \n",
            "                                                                                                  \n",
            " dense_3 (Dense)                (None, 32)           2080        ['dense_2[0][0]']                \n",
            "                                                                                                  \n",
            " dense_5 (Dense)                (None, 32)           2080        ['dense_4[0][0]']                \n",
            "                                                                                                  \n",
            " dense_7 (Dense)                (None, 32)           2080        ['dense_6[0][0]']                \n",
            "                                                                                                  \n",
            " dense_9 (Dense)                (None, 32)           2080        ['dense_8[0][0]']                \n",
            "                                                                                                  \n",
            " dense_11 (Dense)               (None, 32)           2080        ['dense_10[0][0]']               \n",
            "                                                                                                  \n",
            " cohesion (Dense)               (None, 1)            33          ['dense_1[0][0]']                \n",
            "                                                                                                  \n",
            " syntax (Dense)                 (None, 1)            33          ['dense_3[0][0]']                \n",
            "                                                                                                  \n",
            " vocabulary (Dense)             (None, 1)            33          ['dense_5[0][0]']                \n",
            "                                                                                                  \n",
            " phraseology (Dense)            (None, 1)            33          ['dense_7[0][0]']                \n",
            "                                                                                                  \n",
            " grammar (Dense)                (None, 1)            33          ['dense_9[0][0]']                \n",
            "                                                                                                  \n",
            " conventions (Dense)            (None, 1)            33          ['dense_11[0][0]']               \n",
            "                                                                                                  \n",
            "==================================================================================================\n",
            "Total params: 1,180,870\n",
            "Trainable params: 1,180,870\n",
            "Non-trainable params: 0\n",
            "__________________________________________________________________________________________________\n"
          ]
        }
      ]
    },
    {
      "cell_type": "code",
      "source": [
        "test_df\n"
      ],
      "metadata": {
        "id": "HwvhRBICNp9E"
      },
      "execution_count": null,
      "outputs": []
    },
    {
      "cell_type": "code",
      "source": [
        "input_essay = \"It is very important for every child to get an education, as education can change their life. It will prepare the child for the harmonious transformation from a student into a responsible citizen. Thus, in order to make a better life for the children, education is mandatory for everyone. Therefore, the government should make education free for everyone. There are also some negative results if the education in colleges and universities is made free. There are some students, after completing their Higher Secondary, who opt for a professional course or vocational course. These students are aware of their aptitudes and have grown up. Some of them are interested in business, others opt for general courses. If education is made free in colleges and universities, then more students will be interested in taking up general courses. This can further result in unemployment, as there will be fewer job opportunities for the huge number of qualified students. The government can tackle this strong competition by adopting different methods of admitting the student. One of the methods is Entrance- Exams, where the students will be allowed to enter on the basis of their merit. The shortage in the job opportunity will lead the educated and highly qualified to settle down in low-level jobs, where they do not get their deserved honour for their capability and hard work. Thus the people will get demoralised and would get diverted from the idea of getting higher education. This would further put the image of free university education down in the eyes of new aspirants.\""
      ],
      "metadata": {
        "id": "brj0-WjfyLGO"
      },
      "execution_count": null,
      "outputs": []
    },
    {
      "cell_type": "code",
      "source": [
        "i = 0\n",
        "test_df.loc[len(test_df.index)] = [\"000BAD50D026\"+str(i), input_essay ]\n",
        "i+=1"
      ],
      "metadata": {
        "id": "mA-Kl9BAx68j"
      },
      "execution_count": null,
      "outputs": []
    },
    {
      "cell_type": "code",
      "source": [
        "test_df"
      ],
      "metadata": {
        "id": "okdv2i3My5NS"
      },
      "execution_count": null,
      "outputs": []
    },
    {
      "cell_type": "code",
      "source": [
        "print(pad_test.shape)"
      ],
      "metadata": {
        "id": "UCByxSspOIys"
      },
      "execution_count": null,
      "outputs": []
    },
    {
      "cell_type": "code",
      "source": [
        "maxlen = 1250\n",
        "sequences = tokenizer.texts_to_sequences([\"\"])\n",
        "data = pad_sequences(sequences, maxlen=maxlen)"
      ],
      "metadata": {
        "id": "TsFtxFPNX-GV"
      },
      "execution_count": null,
      "outputs": []
    },
    {
      "cell_type": "code",
      "source": [
        "data"
      ],
      "metadata": {
        "id": "oMJ_FB3zZhDt"
      },
      "execution_count": null,
      "outputs": []
    },
    {
      "cell_type": "code",
      "source": [
        "X_test = data\n",
        "results = new_model.predict(X_test)"
      ],
      "metadata": {
        "id": "9OBw7Yz6Zi9v"
      },
      "execution_count": null,
      "outputs": []
    },
    {
      "cell_type": "code",
      "source": [
        "results"
      ],
      "metadata": {
        "id": "dP5W88VuZn53"
      },
      "execution_count": null,
      "outputs": []
    },
    {
      "cell_type": "code",
      "source": [
        "abc = pd.DataFrame()\n",
        "abc['text_id'] = test_df['text_id']\n",
        "base = 0.5\n",
        "for i in range(6):\n",
        "    abc[i] = pd.Series([base * round(float(x)/base) for x in results[i]])\n",
        "abc.columns = train_df.drop(columns=['full_text', 'num_words']).columns\n",
        "abc = abc.clip(upper=pd.Series({'cohesion':4.0, 'syntax':4.0, 'vocabulary':4.0, 'phraseology':4.0, 'grammar':4.0, 'conventions':4.0}), axis=1)\n",
        "abc['text_id'] = test_df['text_id']\n",
        "\n",
        "abc.head()"
      ],
      "metadata": {
        "id": "Lu09hXtrvf1w"
      },
      "execution_count": null,
      "outputs": []
    },
    {
      "cell_type": "code",
      "source": [
        "test_seq = tokenizer.texts_to_sequences(test_df.iloc[-1]['full_text'])\n",
        "pad_test = pad_sequences(test_seq, maxlen=max_words, truncating='post')"
      ],
      "metadata": {
        "id": "5tTxSVe8S5SK"
      },
      "execution_count": null,
      "outputs": []
    },
    {
      "cell_type": "code",
      "source": [
        "test_df['full_text']"
      ],
      "metadata": {
        "id": "flklb8QTXeBm"
      },
      "execution_count": null,
      "outputs": []
    },
    {
      "cell_type": "code",
      "source": [
        "print(X_test)"
      ],
      "metadata": {
        "id": "IW-kbI46UL7h"
      },
      "execution_count": null,
      "outputs": []
    },
    {
      "cell_type": "code",
      "source": [
        "import math"
      ],
      "metadata": {
        "id": "zmBXMusWqOZG"
      },
      "execution_count": null,
      "outputs": []
    },
    {
      "cell_type": "code",
      "source": [
        "X_test = pad_test\n",
        "results = saved_model.predict(X_test)\n",
        "lstm_prediction = pd.DataFrame()\n",
        "lstm_prediction['text_id'] = test_df['text_id']\n",
        "base = 0.5\n",
        "for i in range(6):\n",
        "    lstm_prediction[i] = pd.Series([base * round(float(x)/base) for x in results[i]])\n",
        "lstm_prediction.columns = train_df.drop(columns=['full_text', 'num_words']).columns\n",
        "lstm_prediction = lstm_prediction.clip(upper=pd.Series({'cohesion':4.0, 'syntax':4.0, 'vocabulary':4.0, 'phraseology':4.0, 'grammar':4.0, 'conventions':4.0}), axis=1)\n",
        "lstm_prediction['text_id'] = test_df['text_id']\n",
        "\n",
        "lstm_prediction.head()"
      ],
      "metadata": {
        "colab": {
          "base_uri": "https://localhost:8080/",
          "height": 193
        },
        "id": "HZ0OvWKpS_Wf",
        "outputId": "3d83605b-39af-4b7f-c5bb-16bac3555154"
      },
      "execution_count": null,
      "outputs": [
        {
          "output_type": "stream",
          "name": "stdout",
          "text": [
            "50/50 [==============================] - 12s 155ms/step\n"
          ]
        },
        {
          "output_type": "execute_result",
          "data": {
            "text/plain": [
              "         text_id  cohesion  syntax  vocabulary  phraseology  grammar  \\\n",
              "0   0000C359D63E       4.0     4.0         4.0          4.0      4.0   \n",
              "1   000BAD50D026       4.0     4.0         4.0          4.0      4.0   \n",
              "2   00367BB2546B       4.0     4.0         4.0          4.0      4.0   \n",
              "3  000BAD50D0260       4.0     4.0         4.0          4.0      4.0   \n",
              "\n",
              "   conventions  \n",
              "0          4.0  \n",
              "1          4.0  \n",
              "2          4.0  \n",
              "3          4.0  "
            ],
            "text/html": [
              "\n",
              "  <div id=\"df-2d4efef3-8fb3-464c-a307-771fcabb10d5\">\n",
              "    <div class=\"colab-df-container\">\n",
              "      <div>\n",
              "<style scoped>\n",
              "    .dataframe tbody tr th:only-of-type {\n",
              "        vertical-align: middle;\n",
              "    }\n",
              "\n",
              "    .dataframe tbody tr th {\n",
              "        vertical-align: top;\n",
              "    }\n",
              "\n",
              "    .dataframe thead th {\n",
              "        text-align: right;\n",
              "    }\n",
              "</style>\n",
              "<table border=\"1\" class=\"dataframe\">\n",
              "  <thead>\n",
              "    <tr style=\"text-align: right;\">\n",
              "      <th></th>\n",
              "      <th>text_id</th>\n",
              "      <th>cohesion</th>\n",
              "      <th>syntax</th>\n",
              "      <th>vocabulary</th>\n",
              "      <th>phraseology</th>\n",
              "      <th>grammar</th>\n",
              "      <th>conventions</th>\n",
              "    </tr>\n",
              "  </thead>\n",
              "  <tbody>\n",
              "    <tr>\n",
              "      <th>0</th>\n",
              "      <td>0000C359D63E</td>\n",
              "      <td>4.0</td>\n",
              "      <td>4.0</td>\n",
              "      <td>4.0</td>\n",
              "      <td>4.0</td>\n",
              "      <td>4.0</td>\n",
              "      <td>4.0</td>\n",
              "    </tr>\n",
              "    <tr>\n",
              "      <th>1</th>\n",
              "      <td>000BAD50D026</td>\n",
              "      <td>4.0</td>\n",
              "      <td>4.0</td>\n",
              "      <td>4.0</td>\n",
              "      <td>4.0</td>\n",
              "      <td>4.0</td>\n",
              "      <td>4.0</td>\n",
              "    </tr>\n",
              "    <tr>\n",
              "      <th>2</th>\n",
              "      <td>00367BB2546B</td>\n",
              "      <td>4.0</td>\n",
              "      <td>4.0</td>\n",
              "      <td>4.0</td>\n",
              "      <td>4.0</td>\n",
              "      <td>4.0</td>\n",
              "      <td>4.0</td>\n",
              "    </tr>\n",
              "    <tr>\n",
              "      <th>3</th>\n",
              "      <td>000BAD50D0260</td>\n",
              "      <td>4.0</td>\n",
              "      <td>4.0</td>\n",
              "      <td>4.0</td>\n",
              "      <td>4.0</td>\n",
              "      <td>4.0</td>\n",
              "      <td>4.0</td>\n",
              "    </tr>\n",
              "  </tbody>\n",
              "</table>\n",
              "</div>\n",
              "      <button class=\"colab-df-convert\" onclick=\"convertToInteractive('df-2d4efef3-8fb3-464c-a307-771fcabb10d5')\"\n",
              "              title=\"Convert this dataframe to an interactive table.\"\n",
              "              style=\"display:none;\">\n",
              "        \n",
              "  <svg xmlns=\"http://www.w3.org/2000/svg\" height=\"24px\"viewBox=\"0 0 24 24\"\n",
              "       width=\"24px\">\n",
              "    <path d=\"M0 0h24v24H0V0z\" fill=\"none\"/>\n",
              "    <path d=\"M18.56 5.44l.94 2.06.94-2.06 2.06-.94-2.06-.94-.94-2.06-.94 2.06-2.06.94zm-11 1L8.5 8.5l.94-2.06 2.06-.94-2.06-.94L8.5 2.5l-.94 2.06-2.06.94zm10 10l.94 2.06.94-2.06 2.06-.94-2.06-.94-.94-2.06-.94 2.06-2.06.94z\"/><path d=\"M17.41 7.96l-1.37-1.37c-.4-.4-.92-.59-1.43-.59-.52 0-1.04.2-1.43.59L10.3 9.45l-7.72 7.72c-.78.78-.78 2.05 0 2.83L4 21.41c.39.39.9.59 1.41.59.51 0 1.02-.2 1.41-.59l7.78-7.78 2.81-2.81c.8-.78.8-2.07 0-2.86zM5.41 20L4 18.59l7.72-7.72 1.47 1.35L5.41 20z\"/>\n",
              "  </svg>\n",
              "      </button>\n",
              "      \n",
              "  <style>\n",
              "    .colab-df-container {\n",
              "      display:flex;\n",
              "      flex-wrap:wrap;\n",
              "      gap: 12px;\n",
              "    }\n",
              "\n",
              "    .colab-df-convert {\n",
              "      background-color: #E8F0FE;\n",
              "      border: none;\n",
              "      border-radius: 50%;\n",
              "      cursor: pointer;\n",
              "      display: none;\n",
              "      fill: #1967D2;\n",
              "      height: 32px;\n",
              "      padding: 0 0 0 0;\n",
              "      width: 32px;\n",
              "    }\n",
              "\n",
              "    .colab-df-convert:hover {\n",
              "      background-color: #E2EBFA;\n",
              "      box-shadow: 0px 1px 2px rgba(60, 64, 67, 0.3), 0px 1px 3px 1px rgba(60, 64, 67, 0.15);\n",
              "      fill: #174EA6;\n",
              "    }\n",
              "\n",
              "    [theme=dark] .colab-df-convert {\n",
              "      background-color: #3B4455;\n",
              "      fill: #D2E3FC;\n",
              "    }\n",
              "\n",
              "    [theme=dark] .colab-df-convert:hover {\n",
              "      background-color: #434B5C;\n",
              "      box-shadow: 0px 1px 3px 1px rgba(0, 0, 0, 0.15);\n",
              "      filter: drop-shadow(0px 1px 2px rgba(0, 0, 0, 0.3));\n",
              "      fill: #FFFFFF;\n",
              "    }\n",
              "  </style>\n",
              "\n",
              "      <script>\n",
              "        const buttonEl =\n",
              "          document.querySelector('#df-2d4efef3-8fb3-464c-a307-771fcabb10d5 button.colab-df-convert');\n",
              "        buttonEl.style.display =\n",
              "          google.colab.kernel.accessAllowed ? 'block' : 'none';\n",
              "\n",
              "        async function convertToInteractive(key) {\n",
              "          const element = document.querySelector('#df-2d4efef3-8fb3-464c-a307-771fcabb10d5');\n",
              "          const dataTable =\n",
              "            await google.colab.kernel.invokeFunction('convertToInteractive',\n",
              "                                                     [key], {});\n",
              "          if (!dataTable) return;\n",
              "\n",
              "          const docLinkHtml = 'Like what you see? Visit the ' +\n",
              "            '<a target=\"_blank\" href=https://colab.research.google.com/notebooks/data_table.ipynb>data table notebook</a>'\n",
              "            + ' to learn more about interactive tables.';\n",
              "          element.innerHTML = '';\n",
              "          dataTable['output_type'] = 'display_data';\n",
              "          await google.colab.output.renderOutput(dataTable, element);\n",
              "          const docLink = document.createElement('div');\n",
              "          docLink.innerHTML = docLinkHtml;\n",
              "          element.appendChild(docLink);\n",
              "        }\n",
              "      </script>\n",
              "    </div>\n",
              "  </div>\n",
              "  "
            ]
          },
          "metadata": {},
          "execution_count": 28
        }
      ]
    },
    {
      "cell_type": "code",
      "source": [
        "average = (lstm_prediction.iloc[-1]['cohesion'] + lstm_prediction.iloc[-1]['syntax'] + lstm_prediction.iloc[-1]['vocabulary'] + lstm_prediction.iloc[-1]['phraseology'] + lstm_prediction.iloc[-1]['grammar'] + lstm_prediction.iloc[-1]['conventions'])/6\n",
        "print(average)"
      ],
      "metadata": {
        "colab": {
          "base_uri": "https://localhost:8080/"
        },
        "id": "CXLGycoizMxM",
        "outputId": "e7dcd1bc-ce8e-47ff-b53f-b24a9b7f4b12"
      },
      "execution_count": null,
      "outputs": [
        {
          "output_type": "stream",
          "name": "stdout",
          "text": [
            "4.0\n"
          ]
        }
      ]
    },
    {
      "cell_type": "code",
      "source": [
        "lstm_submission.to_csv('lstmsubmission.csv', index=False)"
      ],
      "metadata": {
        "id": "EPhotKmLIZ2V"
      },
      "execution_count": null,
      "outputs": []
    }
  ]
}